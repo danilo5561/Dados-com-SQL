{
 "cells": [
  {
   "cell_type": "markdown",
   "metadata": {},
   "source": [
    "# Trabalhando com SQL\n",
    "\n",
    "### Contexto:\n",
    "O coronavírus pegou o mundo todo de surpresa mudando a rotina das pessoas. Os moradores das cidades já não passavam mais seu tempo livre fora de casa, indo a cafés e shoppings; a maioria ficou em casa lendo livros. Isso chamou a atenção de startups que se apressaram para desenvolver novos aplicativos para os amantes de livros.\n",
    "\n",
    "Você recebeu um banco de dados de um dos serviços concorrentes nesse mercado. Ele contém dados sobre livros, editoras, autores, e classificação de clientes e avaliação de livros. Essa informação será usada para gerar uma proposição válida para o novo produto.\n",
    "\n",
    "\n",
    "#### Tarefa\n",
    "- Encontre o número de livros lançados depois de 1 de janeiro de 2000. -OK\n",
    "- Encontre o número de avaliações e a classificação média para cada livro.- OK\n",
    "- Identifique a editora que lançou o maior número de livros com mais de 50 páginas (isso vai ajudar você a excluir brochuras e -  publicações parecidas da sua análise). - OK\n",
    "- Identifique o autor com a média mais alta de classificação de livros: olhe apenas para livros com pelo menos 50 -  classificações. -OK\n",
    "- Encontre o número médio de avaliações entre usuários que classificaram mais do que 50 livros. - OK\n",
    "#### Instruções para completar a tarefa\n",
    "- Descreva os objetivos do estudo. -OK\n",
    "- Estude as tabelas (imprima as primeiras linhas). - OK\n",
    "- Faça uma consulta SQL para cada uma das tarefas. - OK\n",
    "- Enuncie os resultados de cada consulta no notebook. - OK\n",
    "- Descreva suas conclusões para cada uma das tarefas. - OK"
   ]
  },
  {
   "cell_type": "code",
   "execution_count": 1,
   "metadata": {},
   "outputs": [],
   "source": [
    "#import libraries\n",
    "import pandas as pd\n",
    "from sqlalchemy import create_engine\n",
    "\n",
    "db_config = {\n",
    " 'user': 'practicum_student', # username\n",
    " 'pwd': 'QnmDH8Sc2TQLvy2G3Vvh7', # password\n",
    " 'host': 'yp-trainers-practicum.cluster-czs0gxyx2d8w.us-east-1.rds.amazonaws.com',\n",
    " 'port': 5432, # connection port\n",
    " 'db': 'data-analyst-final-project-db' # the name of the database\n",
    " }\n",
    "connection_string = 'postgresql://{}:{}@{}:{}/{}'.format(db_config['user'],\n",
    "db_config['pwd'],\n",
    "db_config['host'],\n",
    "db_config['port'],\n",
    "db_config['db'])\n",
    "\n",
    "engine = create_engine(connection_string, connect_args={'sslmode':'require'})\n"
   ]
  },
  {
   "cell_type": "code",
   "execution_count": 2,
   "metadata": {},
   "outputs": [
    {
     "name": "stdout",
     "output_type": "stream",
     "text": [
      "   book_id  author_id                                              title  \\\n",
      "0        1        546                                       'Salem's Lot   \n",
      "1        2        465                 1 000 Places to See Before You Die   \n",
      "2        3        407  13 Little Blue Envelopes (Little Blue Envelope...   \n",
      "3        4         82  1491: New Revelations of the Americas Before C...   \n",
      "4        5        125                                               1776   \n",
      "\n",
      "   num_pages publication_date  publisher_id  \n",
      "0        594       2005-11-01            93  \n",
      "1        992       2003-05-22           336  \n",
      "2        322       2010-12-21           135  \n",
      "3        541       2006-10-10           309  \n",
      "4        386       2006-07-04           268  \n",
      "<class 'pandas.core.frame.DataFrame'>\n",
      "RangeIndex: 1000 entries, 0 to 999\n",
      "Data columns (total 6 columns):\n",
      " #   Column            Non-Null Count  Dtype \n",
      "---  ------            --------------  ----- \n",
      " 0   book_id           1000 non-null   int64 \n",
      " 1   author_id         1000 non-null   int64 \n",
      " 2   title             1000 non-null   object\n",
      " 3   num_pages         1000 non-null   int64 \n",
      " 4   publication_date  1000 non-null   object\n",
      " 5   publisher_id      1000 non-null   int64 \n",
      "dtypes: int64(4), object(2)\n",
      "memory usage: 47.0+ KB\n",
      "None\n"
     ]
    }
   ],
   "source": [
    "# extraindo dados da tabela books\n",
    "\n",
    "query = \"SELECT * FROM books\"\n",
    "pd.io.sql.read_sql(query, con = engine)\n",
    "\n",
    "books = pd.read_sql(query, con=engine)\n",
    "\n",
    "# Visualizando os dados\n",
    "print(books.head())\n",
    "print(books.info())"
   ]
  },
  {
   "cell_type": "code",
   "execution_count": 3,
   "metadata": {},
   "outputs": [
    {
     "name": "stdout",
     "output_type": "stream",
     "text": [
      "   author_id                          author\n",
      "0          1                      A.S. Byatt\n",
      "1          2  Aesop/Laura Harris/Laura Gibbs\n",
      "2          3                 Agatha Christie\n",
      "3          4                   Alan Brennert\n",
      "4          5        Alan Moore/David   Lloyd\n",
      "<class 'pandas.core.frame.DataFrame'>\n",
      "RangeIndex: 636 entries, 0 to 635\n",
      "Data columns (total 2 columns):\n",
      " #   Column     Non-Null Count  Dtype \n",
      "---  ------     --------------  ----- \n",
      " 0   author_id  636 non-null    int64 \n",
      " 1   author     636 non-null    object\n",
      "dtypes: int64(1), object(1)\n",
      "memory usage: 10.1+ KB\n",
      "None\n"
     ]
    }
   ],
   "source": [
    "# extraindo dados da tabela authors\n",
    "\n",
    "query = \"SELECT * FROM authors\"\n",
    "pd.io.sql.read_sql(query, con = engine)\n",
    "\n",
    "authors = pd.read_sql(query, con=engine)\n",
    "\n",
    "# Visualizando os dados\n",
    "print(authors.head())\n",
    "print(authors.info())"
   ]
  },
  {
   "cell_type": "code",
   "execution_count": 4,
   "metadata": {},
   "outputs": [
    {
     "name": "stdout",
     "output_type": "stream",
     "text": [
      "   publisher_id                          publisher\n",
      "0             1                                Ace\n",
      "1             2                           Ace Book\n",
      "2             3                          Ace Books\n",
      "3             4                      Ace Hardcover\n",
      "4             5  Addison Wesley Publishing Company\n",
      "<class 'pandas.core.frame.DataFrame'>\n",
      "RangeIndex: 340 entries, 0 to 339\n",
      "Data columns (total 2 columns):\n",
      " #   Column        Non-Null Count  Dtype \n",
      "---  ------        --------------  ----- \n",
      " 0   publisher_id  340 non-null    int64 \n",
      " 1   publisher     340 non-null    object\n",
      "dtypes: int64(1), object(1)\n",
      "memory usage: 5.4+ KB\n",
      "None\n"
     ]
    }
   ],
   "source": [
    "# extraindo dados da tabela publishers\n",
    "\n",
    "query = \"SELECT * FROM publishers\"\n",
    "pd.io.sql.read_sql(query, con = engine)\n",
    "\n",
    "publishers = pd.read_sql(query, con=engine)\n",
    "\n",
    "# Visualizando os dados\n",
    "print(publishers.head())\n",
    "print(publishers.info())"
   ]
  },
  {
   "cell_type": "code",
   "execution_count": 5,
   "metadata": {},
   "outputs": [
    {
     "name": "stdout",
     "output_type": "stream",
     "text": [
      "   rating_id  book_id       username  rating\n",
      "0          1        1     ryanfranco       4\n",
      "1          2        1  grantpatricia       2\n",
      "2          3        1   brandtandrea       5\n",
      "3          4        2       lorichen       3\n",
      "4          5        2    mariokeller       2\n",
      "<class 'pandas.core.frame.DataFrame'>\n",
      "RangeIndex: 6456 entries, 0 to 6455\n",
      "Data columns (total 4 columns):\n",
      " #   Column     Non-Null Count  Dtype \n",
      "---  ------     --------------  ----- \n",
      " 0   rating_id  6456 non-null   int64 \n",
      " 1   book_id    6456 non-null   int64 \n",
      " 2   username   6456 non-null   object\n",
      " 3   rating     6456 non-null   int64 \n",
      "dtypes: int64(3), object(1)\n",
      "memory usage: 201.9+ KB\n",
      "None\n"
     ]
    }
   ],
   "source": [
    "# extraindo dados da tabela ratings\n",
    "\n",
    "query = \"SELECT * FROM ratings\"\n",
    "pd.io.sql.read_sql(query, con = engine)\n",
    "\n",
    "ratings = pd.read_sql(query, con=engine)\n",
    "\n",
    "# Visualizando os dados\n",
    "print(ratings.head())\n",
    "print(ratings.info())"
   ]
  },
  {
   "cell_type": "code",
   "execution_count": 6,
   "metadata": {},
   "outputs": [
    {
     "name": "stdout",
     "output_type": "stream",
     "text": [
      "   review_id  book_id       username  \\\n",
      "0          1        1   brandtandrea   \n",
      "1          2        1     ryanfranco   \n",
      "2          3        2       lorichen   \n",
      "3          4        3  johnsonamanda   \n",
      "4          5        3    scotttamara   \n",
      "\n",
      "                                                text  \n",
      "0  Mention society tell send professor analysis. ...  \n",
      "1  Foot glass pretty audience hit themselves. Amo...  \n",
      "2  Listen treat keep worry. Miss husband tax but ...  \n",
      "3  Finally month interesting blue could nature cu...  \n",
      "4  Nation purpose heavy give wait song will. List...  \n",
      "<class 'pandas.core.frame.DataFrame'>\n",
      "RangeIndex: 2793 entries, 0 to 2792\n",
      "Data columns (total 4 columns):\n",
      " #   Column     Non-Null Count  Dtype \n",
      "---  ------     --------------  ----- \n",
      " 0   review_id  2793 non-null   int64 \n",
      " 1   book_id    2793 non-null   int64 \n",
      " 2   username   2793 non-null   object\n",
      " 3   text       2793 non-null   object\n",
      "dtypes: int64(2), object(2)\n",
      "memory usage: 87.4+ KB\n",
      "None\n"
     ]
    }
   ],
   "source": [
    "# extraindo dados da tabela reviews\n",
    "\n",
    "query = \"SELECT * FROM reviews\"\n",
    "pd.io.sql.read_sql(query, con = engine)\n",
    "\n",
    "reviews = pd.read_sql(query, con=engine)\n",
    "\n",
    "# Visualizando os dados\n",
    "print(reviews.head())\n",
    "print(reviews.info())"
   ]
  },
  {
   "cell_type": "markdown",
   "metadata": {},
   "source": [
    "#### Resposta do aluno: dados extraídos e visualizados. A príncipio nenhum dado nulo."
   ]
  },
  {
   "cell_type": "markdown",
   "metadata": {},
   "source": [
    "### Análise Exploratória dos Dados"
   ]
  },
  {
   "cell_type": "code",
   "execution_count": 7,
   "metadata": {},
   "outputs": [
    {
     "name": "stdout",
     "output_type": "stream",
     "text": [
      "Collecting sqldf\n",
      "  Downloading sqldf-0.4.2-py3-none-any.whl (4.3 kB)\n",
      "Installing collected packages: sqldf\n",
      "Successfully installed sqldf-0.4.2\n"
     ]
    }
   ],
   "source": [
    "# Instalando a biblioteca\n",
    "\n",
    "!pip install sqldf"
   ]
  },
  {
   "cell_type": "code",
   "execution_count": 9,
   "metadata": {},
   "outputs": [
    {
     "data": {
      "text/html": [
       "<div>\n",
       "<style scoped>\n",
       "    .dataframe tbody tr th:only-of-type {\n",
       "        vertical-align: middle;\n",
       "    }\n",
       "\n",
       "    .dataframe tbody tr th {\n",
       "        vertical-align: top;\n",
       "    }\n",
       "\n",
       "    .dataframe thead th {\n",
       "        text-align: right;\n",
       "    }\n",
       "</style>\n",
       "<table border=\"1\" class=\"dataframe\">\n",
       "  <thead>\n",
       "    <tr style=\"text-align: right;\">\n",
       "      <th></th>\n",
       "      <th>books_2000</th>\n",
       "    </tr>\n",
       "  </thead>\n",
       "  <tbody>\n",
       "    <tr>\n",
       "      <th>0</th>\n",
       "      <td>819</td>\n",
       "    </tr>\n",
       "  </tbody>\n",
       "</table>\n",
       "</div>"
      ],
      "text/plain": [
       "   books_2000\n",
       "0         819"
      ]
     },
     "execution_count": 9,
     "metadata": {},
     "output_type": "execute_result"
    }
   ],
   "source": [
    "# realizando a consulta\n",
    "# Encontre o número de livros lançados depois de 1 de janeiro de 2000.\n",
    "\n",
    "query = \"\"\"\n",
    "SELECT COUNT(*) AS books_2000\n",
    "FROM books\n",
    "WHERE publication_date > '2000-01-01'\n",
    "\"\"\"\n",
    "\n",
    "# Executando a consulta\n",
    "pd.io.sql.read_sql(query, con = engine)"
   ]
  },
  {
   "cell_type": "markdown",
   "metadata": {},
   "source": [
    "#### Resposta do aluno: Podemos ver que no conjunto de dados temos 1000 livros, 821 foram lançados a partir de 01/01/2000"
   ]
  },
  {
   "cell_type": "code",
   "execution_count": 11,
   "metadata": {},
   "outputs": [
    {
     "data": {
      "text/html": [
       "<div>\n",
       "<style scoped>\n",
       "    .dataframe tbody tr th:only-of-type {\n",
       "        vertical-align: middle;\n",
       "    }\n",
       "\n",
       "    .dataframe tbody tr th {\n",
       "        vertical-align: top;\n",
       "    }\n",
       "\n",
       "    .dataframe thead th {\n",
       "        text-align: right;\n",
       "    }\n",
       "</style>\n",
       "<table border=\"1\" class=\"dataframe\">\n",
       "  <thead>\n",
       "    <tr style=\"text-align: right;\">\n",
       "      <th></th>\n",
       "      <th>title</th>\n",
       "      <th>avg_rating</th>\n",
       "      <th>review_count</th>\n",
       "    </tr>\n",
       "  </thead>\n",
       "  <tbody>\n",
       "    <tr>\n",
       "      <th>0</th>\n",
       "      <td>Twilight (Twilight  #1)</td>\n",
       "      <td>3.662500</td>\n",
       "      <td>7</td>\n",
       "    </tr>\n",
       "    <tr>\n",
       "      <th>1</th>\n",
       "      <td>Harry Potter and the Prisoner of Azkaban (Harr...</td>\n",
       "      <td>4.414634</td>\n",
       "      <td>6</td>\n",
       "    </tr>\n",
       "    <tr>\n",
       "      <th>2</th>\n",
       "      <td>Harry Potter and the Chamber of Secrets (Harry...</td>\n",
       "      <td>4.287500</td>\n",
       "      <td>6</td>\n",
       "    </tr>\n",
       "    <tr>\n",
       "      <th>3</th>\n",
       "      <td>The Book Thief</td>\n",
       "      <td>4.264151</td>\n",
       "      <td>6</td>\n",
       "    </tr>\n",
       "    <tr>\n",
       "      <th>4</th>\n",
       "      <td>The Glass Castle</td>\n",
       "      <td>4.206897</td>\n",
       "      <td>6</td>\n",
       "    </tr>\n",
       "    <tr>\n",
       "      <th>5</th>\n",
       "      <td>The Hobbit  or There and Back Again</td>\n",
       "      <td>4.125000</td>\n",
       "      <td>6</td>\n",
       "    </tr>\n",
       "    <tr>\n",
       "      <th>6</th>\n",
       "      <td>Outlander (Outlander  #1)</td>\n",
       "      <td>4.125000</td>\n",
       "      <td>6</td>\n",
       "    </tr>\n",
       "    <tr>\n",
       "      <th>7</th>\n",
       "      <td>The Curious Incident of the Dog in the Night-Time</td>\n",
       "      <td>4.081081</td>\n",
       "      <td>6</td>\n",
       "    </tr>\n",
       "    <tr>\n",
       "      <th>8</th>\n",
       "      <td>The Lightning Thief (Percy Jackson and the Oly...</td>\n",
       "      <td>4.080645</td>\n",
       "      <td>6</td>\n",
       "    </tr>\n",
       "    <tr>\n",
       "      <th>9</th>\n",
       "      <td>Water for Elephants</td>\n",
       "      <td>3.977273</td>\n",
       "      <td>6</td>\n",
       "    </tr>\n",
       "  </tbody>\n",
       "</table>\n",
       "</div>"
      ],
      "text/plain": [
       "                                               title  avg_rating  review_count\n",
       "0                            Twilight (Twilight  #1)    3.662500             7\n",
       "1  Harry Potter and the Prisoner of Azkaban (Harr...    4.414634             6\n",
       "2  Harry Potter and the Chamber of Secrets (Harry...    4.287500             6\n",
       "3                                     The Book Thief    4.264151             6\n",
       "4                                   The Glass Castle    4.206897             6\n",
       "5                The Hobbit  or There and Back Again    4.125000             6\n",
       "6                          Outlander (Outlander  #1)    4.125000             6\n",
       "7  The Curious Incident of the Dog in the Night-Time    4.081081             6\n",
       "8  The Lightning Thief (Percy Jackson and the Oly...    4.080645             6\n",
       "9                                Water for Elephants    3.977273             6"
      ]
     },
     "execution_count": 11,
     "metadata": {},
     "output_type": "execute_result"
    }
   ],
   "source": [
    "# Encontre o número de avaliações e a classificação média para cada livro\n",
    "\n",
    "query2 = \"\"\"SELECT\n",
    "               books.title,\n",
    "               subquery.avg_rating,\n",
    "               subquery.review_count\n",
    "               FROM\n",
    "                   (SELECT\n",
    "                        reviews.book_id as book_id,\n",
    "                        COUNT (DISTINCT reviews.review_id) AS review_count,\n",
    "                        AVG (ratings.rating) AS avg_rating\n",
    "                    FROM\n",
    "                        reviews\n",
    "                        INNER JOIN ratings ON ratings.book_id = reviews.book_id\n",
    "                    GROUP BY\n",
    "                        reviews.book_id\n",
    "                    ORDER BY\n",
    "                        review_count DESC,\n",
    "                        avg_rating DESC) AS subquery\n",
    "                    INNER JOIN books ON subquery.book_id = books.book_id\n",
    "                   ORDER BY\n",
    "                   review_count DESC,\n",
    "                   avg_rating DESC\n",
    "               LIMIT 10\"\"\"\n",
    "\n",
    "# Executando a consulta\n",
    "pd.io.sql.read_sql(query2, con = engine)"
   ]
  },
  {
   "cell_type": "markdown",
   "metadata": {},
   "source": [
    "#### Resposta do aluno: Existe uma avaliação de 1 à 7, conforme os dados acima podemos ver quantos livros estão rankeados em cada posição e suas respectivas médias."
   ]
  },
  {
   "cell_type": "code",
   "execution_count": 15,
   "metadata": {},
   "outputs": [
    {
     "data": {
      "text/html": [
       "<div>\n",
       "<style scoped>\n",
       "    .dataframe tbody tr th:only-of-type {\n",
       "        vertical-align: middle;\n",
       "    }\n",
       "\n",
       "    .dataframe tbody tr th {\n",
       "        vertical-align: top;\n",
       "    }\n",
       "\n",
       "    .dataframe thead th {\n",
       "        text-align: right;\n",
       "    }\n",
       "</style>\n",
       "<table border=\"1\" class=\"dataframe\">\n",
       "  <thead>\n",
       "    <tr style=\"text-align: right;\">\n",
       "      <th></th>\n",
       "      <th>publisher</th>\n",
       "      <th>total_livros</th>\n",
       "    </tr>\n",
       "  </thead>\n",
       "  <tbody>\n",
       "    <tr>\n",
       "      <th>0</th>\n",
       "      <td>Penguin Books</td>\n",
       "      <td>42</td>\n",
       "    </tr>\n",
       "    <tr>\n",
       "      <th>1</th>\n",
       "      <td>Vintage</td>\n",
       "      <td>31</td>\n",
       "    </tr>\n",
       "    <tr>\n",
       "      <th>2</th>\n",
       "      <td>Grand Central Publishing</td>\n",
       "      <td>25</td>\n",
       "    </tr>\n",
       "    <tr>\n",
       "      <th>3</th>\n",
       "      <td>Penguin Classics</td>\n",
       "      <td>24</td>\n",
       "    </tr>\n",
       "    <tr>\n",
       "      <th>4</th>\n",
       "      <td>Ballantine Books</td>\n",
       "      <td>19</td>\n",
       "    </tr>\n",
       "    <tr>\n",
       "      <th>...</th>\n",
       "      <td>...</td>\n",
       "      <td>...</td>\n",
       "    </tr>\n",
       "    <tr>\n",
       "      <th>329</th>\n",
       "      <td>Turtleback</td>\n",
       "      <td>1</td>\n",
       "    </tr>\n",
       "    <tr>\n",
       "      <th>330</th>\n",
       "      <td>Atheneum Books for Young Readers: Richard Jack...</td>\n",
       "      <td>1</td>\n",
       "    </tr>\n",
       "    <tr>\n",
       "      <th>331</th>\n",
       "      <td>Penguin Signet</td>\n",
       "      <td>1</td>\n",
       "    </tr>\n",
       "    <tr>\n",
       "      <th>332</th>\n",
       "      <td>Victor Gollancz</td>\n",
       "      <td>1</td>\n",
       "    </tr>\n",
       "    <tr>\n",
       "      <th>333</th>\n",
       "      <td>Harvard Business Review Press</td>\n",
       "      <td>1</td>\n",
       "    </tr>\n",
       "  </tbody>\n",
       "</table>\n",
       "<p>334 rows × 2 columns</p>\n",
       "</div>"
      ],
      "text/plain": [
       "                                             publisher  total_livros\n",
       "0                                        Penguin Books            42\n",
       "1                                              Vintage            31\n",
       "2                             Grand Central Publishing            25\n",
       "3                                     Penguin Classics            24\n",
       "4                                     Ballantine Books            19\n",
       "..                                                 ...           ...\n",
       "329                                         Turtleback             1\n",
       "330  Atheneum Books for Young Readers: Richard Jack...             1\n",
       "331                                     Penguin Signet             1\n",
       "332                                    Victor Gollancz             1\n",
       "333                      Harvard Business Review Press             1\n",
       "\n",
       "[334 rows x 2 columns]"
      ]
     },
     "execution_count": 15,
     "metadata": {},
     "output_type": "execute_result"
    }
   ],
   "source": [
    "# Identifique a editora que lançou o maior número de livros com mais de 50 páginas \n",
    "# (isso vai ajudar você a excluir brochuras e publicações parecidas da sua análise).\n",
    "\n",
    "query = \"\"\"\n",
    "SELECT p.publisher, COUNT(*) AS total_livros\n",
    "FROM books b\n",
    "INNER JOIN publishers p ON b.publisher_id = p.publisher_id\n",
    "WHERE b.num_pages >= 50\n",
    "GROUP BY p.publisher\n",
    "ORDER BY total_livros DESC\n",
    "\"\"\"\n",
    "\n",
    "# Executando a consulta\n",
    "pd.io.sql.read_sql(query, con = engine)"
   ]
  },
  {
   "cell_type": "markdown",
   "metadata": {},
   "source": [
    "#### Resposta do aluno: Após filtrar os livros com mais de 50 páginas, podemos observar que a editora que mais publicou livros foi a Penguin Books com 42 livros publicados, liderando a lista das editoras com mais livros lançados."
   ]
  },
  {
   "cell_type": "code",
   "execution_count": 13,
   "metadata": {},
   "outputs": [
    {
     "data": {
      "text/html": [
       "<div>\n",
       "<style scoped>\n",
       "    .dataframe tbody tr th:only-of-type {\n",
       "        vertical-align: middle;\n",
       "    }\n",
       "\n",
       "    .dataframe tbody tr th {\n",
       "        vertical-align: top;\n",
       "    }\n",
       "\n",
       "    .dataframe thead th {\n",
       "        text-align: right;\n",
       "    }\n",
       "</style>\n",
       "<table border=\"1\" class=\"dataframe\">\n",
       "  <thead>\n",
       "    <tr style=\"text-align: right;\">\n",
       "      <th></th>\n",
       "      <th>author</th>\n",
       "      <th>final_avg</th>\n",
       "    </tr>\n",
       "  </thead>\n",
       "  <tbody>\n",
       "    <tr>\n",
       "      <th>0</th>\n",
       "      <td>J.K. Rowling/Mary GrandPré</td>\n",
       "      <td>4.283844</td>\n",
       "    </tr>\n",
       "    <tr>\n",
       "      <th>1</th>\n",
       "      <td>Markus Zusak/Cao Xuân Việt Khương</td>\n",
       "      <td>4.264151</td>\n",
       "    </tr>\n",
       "    <tr>\n",
       "      <th>2</th>\n",
       "      <td>J.R.R. Tolkien</td>\n",
       "      <td>4.258446</td>\n",
       "    </tr>\n",
       "    <tr>\n",
       "      <th>3</th>\n",
       "      <td>Louisa May Alcott</td>\n",
       "      <td>4.192308</td>\n",
       "    </tr>\n",
       "    <tr>\n",
       "      <th>4</th>\n",
       "      <td>Rick Riordan</td>\n",
       "      <td>4.080645</td>\n",
       "    </tr>\n",
       "  </tbody>\n",
       "</table>\n",
       "</div>"
      ],
      "text/plain": [
       "                              author  final_avg\n",
       "0         J.K. Rowling/Mary GrandPré   4.283844\n",
       "1  Markus Zusak/Cao Xuân Việt Khương   4.264151\n",
       "2                     J.R.R. Tolkien   4.258446\n",
       "3                  Louisa May Alcott   4.192308\n",
       "4                       Rick Riordan   4.080645"
      ]
     },
     "execution_count": 13,
     "metadata": {},
     "output_type": "execute_result"
    }
   ],
   "source": [
    "#Identifique o autor com a média mais alta de classificação de livros: olhe apenas para livros com pelo menos 50 classificações.\n",
    "\n",
    "query4 =\"\"\"SELECT\n",
    "                   authors.author,\n",
    "                   AVG (subquery2.avg_rating) as final_avg            \n",
    "               FROM\n",
    "                   (SELECT\n",
    "                       books.title,\n",
    "                       books.author_id,\n",
    "                       subquery1.avg_rating\n",
    "                   FROM\n",
    "                       (SELECT\n",
    "                           book_id,\n",
    "                           COUNT (rating_id) AS rating_cnt,\n",
    "                           AVG (rating) AS avg_rating\n",
    "                       FROM\n",
    "                           ratings\n",
    "                       GROUP BY\n",
    "                           book_id\n",
    "                       HAVING\n",
    "                           COUNT (rating_id) > 50) AS subquery1\n",
    "                       INNER JOIN books ON books.book_id = subquery1.book_id) AS subquery2\n",
    "                   INNER JOIN authors ON authors.author_id = subquery2.author_id\n",
    "               GROUP BY\n",
    "                   author\n",
    "               ORDER BY\n",
    "                   final_avg DESC\n",
    "               LIMIT 5\"\"\"\n",
    "\n",
    "# Executando a consulta\n",
    "pd.io.sql.read_sql(query4, con = engine)"
   ]
  },
  {
   "cell_type": "markdown",
   "metadata": {},
   "source": [
    "#### Resposta do aluno: Consulta realizada classificando o autor com a maior classificação (livros) foram considerados apenas os autores com mais de 50 classificações. "
   ]
  },
  {
   "cell_type": "code",
   "execution_count": 14,
   "metadata": {},
   "outputs": [
    {
     "data": {
      "text/html": [
       "<div>\n",
       "<style scoped>\n",
       "    .dataframe tbody tr th:only-of-type {\n",
       "        vertical-align: middle;\n",
       "    }\n",
       "\n",
       "    .dataframe tbody tr th {\n",
       "        vertical-align: top;\n",
       "    }\n",
       "\n",
       "    .dataframe thead th {\n",
       "        text-align: right;\n",
       "    }\n",
       "</style>\n",
       "<table border=\"1\" class=\"dataframe\">\n",
       "  <thead>\n",
       "    <tr style=\"text-align: right;\">\n",
       "      <th></th>\n",
       "      <th>avg_review_cnt</th>\n",
       "    </tr>\n",
       "  </thead>\n",
       "  <tbody>\n",
       "    <tr>\n",
       "      <th>0</th>\n",
       "      <td>24.333333</td>\n",
       "    </tr>\n",
       "  </tbody>\n",
       "</table>\n",
       "</div>"
      ],
      "text/plain": [
       "   avg_review_cnt\n",
       "0       24.333333"
      ]
     },
     "execution_count": 14,
     "metadata": {},
     "output_type": "execute_result"
    }
   ],
   "source": [
    "# Encontre o número médio de avaliações entre usuários que classificaram mais do que 50 livros.\n",
    "\n",
    "query5 = \"\"\"SELECT\n",
    "                   AVG (subquery2.review_cnt) AS avg_review_cnt\n",
    "               FROM\n",
    "                   (SELECT\n",
    "                       COUNT (reviews.review_id) as review_cnt,\n",
    "                       subquery1.username\n",
    "                   FROM\n",
    "                       (SELECT\n",
    "                           username,\n",
    "                           COUNT (rating_id) AS rating_cnt\n",
    "                       FROM\n",
    "                           ratings\n",
    "                       GROUP BY\n",
    "                           username\n",
    "                       HAVING\n",
    "                           COUNT (rating_id) > 50) AS subquery1\n",
    "                       INNER JOIN reviews ON reviews.username = subquery1.username\n",
    "                   GROUP BY\n",
    "                       subquery1.username) AS subquery2\"\"\"\n",
    "\n",
    "# Executando a consulta\n",
    "pd.io.sql.read_sql(query5, con = engine)"
   ]
  },
  {
   "cell_type": "markdown",
   "metadata": {},
   "source": [
    "#### Resposta do aluno: Consulta realizada filtrando os usuários que classificaram mais de 50 livros, ambos estão classificados pela média de avaliação. Podemos ver que a média é muito próxima dos primeiros colocados."
   ]
  },
  {
   "cell_type": "markdown",
   "metadata": {},
   "source": [
    "### Conclusão: Todas as solicitações de consulta realizadas atravéz de consultas SQL."
   ]
  },
  {
   "cell_type": "code",
   "execution_count": null,
   "metadata": {},
   "outputs": [],
   "source": []
  }
 ],
 "metadata": {
  "ExecuteTimeLog": [
   {
    "duration": 161,
    "start_time": "2024-12-24T16:37:06.758Z"
   },
   {
    "duration": 6,
    "start_time": "2024-12-24T16:37:14.652Z"
   },
   {
    "duration": 12,
    "start_time": "2024-12-24T16:37:18.435Z"
   },
   {
    "duration": 5,
    "start_time": "2024-12-24T16:37:31.161Z"
   },
   {
    "duration": 9,
    "start_time": "2024-12-26T11:50:33.609Z"
   },
   {
    "duration": 411,
    "start_time": "2024-12-26T11:52:20.889Z"
   },
   {
    "duration": 181,
    "start_time": "2024-12-26T11:52:25.683Z"
   },
   {
    "duration": 20,
    "start_time": "2024-12-26T12:14:53.522Z"
   },
   {
    "duration": 14,
    "start_time": "2024-12-26T12:15:05.284Z"
   },
   {
    "duration": 3,
    "start_time": "2024-12-26T12:15:20.483Z"
   },
   {
    "duration": 3,
    "start_time": "2024-12-26T12:15:30.088Z"
   },
   {
    "duration": 12,
    "start_time": "2024-12-26T12:15:31.005Z"
   },
   {
    "duration": 5,
    "start_time": "2024-12-26T12:16:23.848Z"
   },
   {
    "duration": 4,
    "start_time": "2024-12-26T12:16:34.629Z"
   },
   {
    "duration": 13,
    "start_time": "2024-12-26T12:16:49.490Z"
   },
   {
    "duration": 448,
    "start_time": "2024-12-26T12:38:10.530Z"
   },
   {
    "duration": 102,
    "start_time": "2024-12-26T12:38:49.620Z"
   },
   {
    "duration": 2,
    "start_time": "2024-12-26T12:51:09.674Z"
   },
   {
    "duration": 149,
    "start_time": "2024-12-26T12:51:25.269Z"
   },
   {
    "duration": 101,
    "start_time": "2024-12-26T12:52:05.209Z"
   },
   {
    "duration": 2,
    "start_time": "2024-12-26T12:55:23.572Z"
   },
   {
    "duration": 21,
    "start_time": "2024-12-26T13:02:53.188Z"
   },
   {
    "duration": 17,
    "start_time": "2024-12-26T13:04:20.739Z"
   },
   {
    "duration": 17,
    "start_time": "2024-12-26T13:04:37.492Z"
   },
   {
    "duration": 12,
    "start_time": "2024-12-26T13:09:48.845Z"
   },
   {
    "duration": 15,
    "start_time": "2024-12-26T13:10:17.666Z"
   },
   {
    "duration": 14,
    "start_time": "2024-12-26T13:10:34.601Z"
   },
   {
    "duration": 18,
    "start_time": "2024-12-26T13:12:05.011Z"
   },
   {
    "duration": 18,
    "start_time": "2024-12-26T13:12:33.303Z"
   },
   {
    "duration": 36,
    "start_time": "2024-12-26T13:13:48.067Z"
   },
   {
    "duration": 29,
    "start_time": "2024-12-26T13:16:00.728Z"
   },
   {
    "duration": 19,
    "start_time": "2024-12-26T13:18:45.266Z"
   },
   {
    "duration": 18,
    "start_time": "2024-12-26T13:19:03.002Z"
   },
   {
    "duration": 37,
    "start_time": "2024-12-26T13:19:05.043Z"
   },
   {
    "duration": 23,
    "start_time": "2024-12-26T13:30:43.405Z"
   },
   {
    "duration": 4,
    "start_time": "2024-12-26T13:31:02.751Z"
   },
   {
    "duration": 3,
    "start_time": "2024-12-26T13:31:02.756Z"
   },
   {
    "duration": 50,
    "start_time": "2024-12-26T13:31:02.763Z"
   },
   {
    "duration": 17,
    "start_time": "2024-12-26T13:31:02.815Z"
   },
   {
    "duration": 17,
    "start_time": "2024-12-26T13:31:02.834Z"
   },
   {
    "duration": 36,
    "start_time": "2024-12-26T13:31:02.853Z"
   },
   {
    "duration": 26,
    "start_time": "2024-12-26T13:31:02.891Z"
   },
   {
    "duration": 4,
    "start_time": "2024-12-26T13:32:03.881Z"
   },
   {
    "duration": 42,
    "start_time": "2024-12-26T13:32:03.888Z"
   },
   {
    "duration": 17,
    "start_time": "2024-12-26T13:32:03.932Z"
   },
   {
    "duration": 15,
    "start_time": "2024-12-26T13:32:03.951Z"
   },
   {
    "duration": 83,
    "start_time": "2024-12-26T13:32:03.967Z"
   },
   {
    "duration": 29,
    "start_time": "2024-12-26T13:32:04.052Z"
   },
   {
    "duration": 13,
    "start_time": "2024-12-26T13:51:59.054Z"
   },
   {
    "duration": 9,
    "start_time": "2024-12-26T13:54:10.382Z"
   },
   {
    "duration": 12,
    "start_time": "2024-12-26T13:55:01.615Z"
   },
   {
    "duration": 8,
    "start_time": "2024-12-26T13:55:52.528Z"
   },
   {
    "duration": 6,
    "start_time": "2024-12-26T13:56:03.789Z"
   },
   {
    "duration": 6,
    "start_time": "2024-12-26T13:57:04.307Z"
   },
   {
    "duration": 7,
    "start_time": "2024-12-26T13:58:17.661Z"
   },
   {
    "duration": 6,
    "start_time": "2024-12-26T13:58:52.275Z"
   },
   {
    "duration": 13,
    "start_time": "2024-12-26T16:30:30.225Z"
   },
   {
    "duration": 16,
    "start_time": "2024-12-26T16:31:33.654Z"
   },
   {
    "duration": 11,
    "start_time": "2024-12-26T16:33:54.494Z"
   },
   {
    "duration": 3,
    "start_time": "2024-12-26T17:50:16.399Z"
   },
   {
    "duration": 5,
    "start_time": "2024-12-26T17:50:26.981Z"
   },
   {
    "duration": 4,
    "start_time": "2024-12-26T17:51:43.867Z"
   },
   {
    "duration": 5,
    "start_time": "2024-12-26T17:52:19.737Z"
   },
   {
    "duration": 4,
    "start_time": "2024-12-26T17:52:46.942Z"
   },
   {
    "duration": 4,
    "start_time": "2024-12-26T17:55:38.073Z"
   },
   {
    "duration": 4,
    "start_time": "2024-12-26T17:55:59.329Z"
   },
   {
    "duration": 117,
    "start_time": "2024-12-26T18:05:52.173Z"
   },
   {
    "duration": 43,
    "start_time": "2024-12-26T18:06:01.679Z"
   },
   {
    "duration": 3319,
    "start_time": "2024-12-26T18:07:41.431Z"
   },
   {
    "duration": 47,
    "start_time": "2024-12-26T18:07:51.648Z"
   },
   {
    "duration": 42,
    "start_time": "2024-12-26T18:09:23.398Z"
   },
   {
    "duration": 39,
    "start_time": "2024-12-26T18:10:01.678Z"
   },
   {
    "duration": 1293,
    "start_time": "2024-12-26T18:10:24.641Z"
   },
   {
    "duration": 1260,
    "start_time": "2024-12-26T18:10:37.498Z"
   },
   {
    "duration": 42,
    "start_time": "2024-12-26T18:11:04.891Z"
   },
   {
    "duration": 5,
    "start_time": "2024-12-26T18:14:33.735Z"
   },
   {
    "duration": 45,
    "start_time": "2024-12-26T18:14:33.742Z"
   },
   {
    "duration": 17,
    "start_time": "2024-12-26T18:14:33.789Z"
   },
   {
    "duration": 16,
    "start_time": "2024-12-26T18:14:33.807Z"
   },
   {
    "duration": 34,
    "start_time": "2024-12-26T18:14:33.825Z"
   },
   {
    "duration": 26,
    "start_time": "2024-12-26T18:14:33.861Z"
   },
   {
    "duration": 5,
    "start_time": "2024-12-26T18:14:33.889Z"
   },
   {
    "duration": 1300,
    "start_time": "2024-12-26T18:14:33.896Z"
   },
   {
    "duration": 1259,
    "start_time": "2024-12-26T18:14:35.198Z"
   },
   {
    "duration": 44,
    "start_time": "2024-12-26T18:14:36.459Z"
   },
   {
    "duration": 0,
    "start_time": "2024-12-26T18:14:36.505Z"
   },
   {
    "duration": 0,
    "start_time": "2024-12-26T18:14:36.506Z"
   },
   {
    "duration": 38,
    "start_time": "2024-12-26T18:15:00.259Z"
   },
   {
    "duration": 3,
    "start_time": "2024-12-26T18:15:47.257Z"
   },
   {
    "duration": 3,
    "start_time": "2024-12-26T18:15:55.177Z"
   },
   {
    "duration": 44,
    "start_time": "2024-12-26T18:16:09.515Z"
   },
   {
    "duration": 42,
    "start_time": "2024-12-26T18:18:40.834Z"
   },
   {
    "duration": 4,
    "start_time": "2024-12-26T18:19:23.637Z"
   },
   {
    "duration": 4,
    "start_time": "2024-12-26T18:27:17.359Z"
   },
   {
    "duration": 16,
    "start_time": "2024-12-26T18:28:27.740Z"
   },
   {
    "duration": 7552,
    "start_time": "2024-12-26T18:29:37.294Z"
   },
   {
    "duration": 18,
    "start_time": "2024-12-26T18:30:24.998Z"
   },
   {
    "duration": 13,
    "start_time": "2024-12-26T18:30:44.161Z"
   },
   {
    "duration": 1234,
    "start_time": "2024-12-26T18:31:51.351Z"
   },
   {
    "duration": 3,
    "start_time": "2024-12-26T18:32:08.451Z"
   },
   {
    "duration": 18,
    "start_time": "2024-12-26T18:32:23.202Z"
   },
   {
    "duration": 17,
    "start_time": "2024-12-26T18:33:47.341Z"
   },
   {
    "duration": 359,
    "start_time": "2024-12-26T18:34:59.223Z"
   },
   {
    "duration": 50,
    "start_time": "2024-12-26T18:34:59.585Z"
   },
   {
    "duration": 18,
    "start_time": "2024-12-26T18:34:59.636Z"
   },
   {
    "duration": 17,
    "start_time": "2024-12-26T18:34:59.657Z"
   },
   {
    "duration": 68,
    "start_time": "2024-12-26T18:34:59.676Z"
   },
   {
    "duration": 25,
    "start_time": "2024-12-26T18:34:59.746Z"
   },
   {
    "duration": 5,
    "start_time": "2024-12-26T18:34:59.773Z"
   },
   {
    "duration": 1371,
    "start_time": "2024-12-26T18:34:59.780Z"
   },
   {
    "duration": 1342,
    "start_time": "2024-12-26T18:35:01.152Z"
   },
   {
    "duration": 1318,
    "start_time": "2024-12-26T18:35:02.497Z"
   },
   {
    "duration": 1228,
    "start_time": "2024-12-26T18:35:03.817Z"
   },
   {
    "duration": 183,
    "start_time": "2024-12-26T18:35:05.047Z"
   },
   {
    "duration": 0,
    "start_time": "2024-12-26T18:35:05.231Z"
   },
   {
    "duration": 0,
    "start_time": "2024-12-26T18:35:05.232Z"
   },
   {
    "duration": 16,
    "start_time": "2024-12-26T18:53:11.693Z"
   },
   {
    "duration": 18,
    "start_time": "2024-12-26T19:27:06.676Z"
   },
   {
    "duration": 1990,
    "start_time": "2024-12-26T19:33:58.987Z"
   },
   {
    "duration": 382,
    "start_time": "2024-12-26T19:34:27.801Z"
   },
   {
    "duration": 59,
    "start_time": "2024-12-26T19:34:28.185Z"
   },
   {
    "duration": 19,
    "start_time": "2024-12-26T19:34:28.246Z"
   },
   {
    "duration": 19,
    "start_time": "2024-12-26T19:34:28.266Z"
   },
   {
    "duration": 71,
    "start_time": "2024-12-26T19:34:28.287Z"
   },
   {
    "duration": 27,
    "start_time": "2024-12-26T19:34:28.360Z"
   },
   {
    "duration": 6,
    "start_time": "2024-12-26T19:34:28.389Z"
   },
   {
    "duration": 1366,
    "start_time": "2024-12-26T19:34:28.396Z"
   },
   {
    "duration": 1325,
    "start_time": "2024-12-26T19:34:29.764Z"
   },
   {
    "duration": 1343,
    "start_time": "2024-12-26T19:34:31.091Z"
   },
   {
    "duration": 1203,
    "start_time": "2024-12-26T19:34:32.436Z"
   },
   {
    "duration": 1830,
    "start_time": "2024-12-26T19:34:33.641Z"
   },
   {
    "duration": 11,
    "start_time": "2024-12-26T19:34:35.473Z"
   },
   {
    "duration": 8,
    "start_time": "2024-12-26T19:35:30.456Z"
   },
   {
    "duration": 183,
    "start_time": "2024-12-26T19:36:13.738Z"
   },
   {
    "duration": 18,
    "start_time": "2024-12-26T19:42:05.270Z"
   },
   {
    "duration": 14,
    "start_time": "2024-12-26T19:42:18.256Z"
   },
   {
    "duration": 13,
    "start_time": "2024-12-26T19:42:47.551Z"
   },
   {
    "duration": 14,
    "start_time": "2024-12-26T19:44:47.838Z"
   },
   {
    "duration": 3,
    "start_time": "2024-12-26T19:46:56.745Z"
   },
   {
    "duration": 1841,
    "start_time": "2024-12-26T19:47:25.990Z"
   },
   {
    "duration": 2,
    "start_time": "2024-12-26T19:47:27.834Z"
   },
   {
    "duration": 16,
    "start_time": "2024-12-26T20:21:45.713Z"
   },
   {
    "duration": 17,
    "start_time": "2024-12-26T20:22:25.799Z"
   },
   {
    "duration": 3,
    "start_time": "2024-12-26T20:22:31.941Z"
   },
   {
    "duration": 19,
    "start_time": "2024-12-26T20:22:44.692Z"
   },
   {
    "duration": 13,
    "start_time": "2024-12-26T20:22:54.849Z"
   },
   {
    "duration": 3,
    "start_time": "2024-12-26T20:23:02.475Z"
   },
   {
    "duration": 12,
    "start_time": "2024-12-26T20:24:30.355Z"
   },
   {
    "duration": 12,
    "start_time": "2024-12-26T20:25:31.478Z"
   },
   {
    "duration": 2,
    "start_time": "2024-12-26T20:26:02.712Z"
   },
   {
    "duration": 13,
    "start_time": "2024-12-26T20:26:06.730Z"
   },
   {
    "duration": 18,
    "start_time": "2024-12-26T20:30:38.652Z"
   },
   {
    "duration": 158,
    "start_time": "2024-12-26T20:34:28.276Z"
   },
   {
    "duration": 11,
    "start_time": "2024-12-26T20:34:29.564Z"
   },
   {
    "duration": 370,
    "start_time": "2024-12-26T20:34:33.474Z"
   },
   {
    "duration": 50,
    "start_time": "2024-12-26T20:34:33.846Z"
   },
   {
    "duration": 18,
    "start_time": "2024-12-26T20:34:33.897Z"
   },
   {
    "duration": 16,
    "start_time": "2024-12-26T20:34:33.916Z"
   },
   {
    "duration": 71,
    "start_time": "2024-12-26T20:34:33.935Z"
   },
   {
    "duration": 24,
    "start_time": "2024-12-26T20:34:34.008Z"
   },
   {
    "duration": 6,
    "start_time": "2024-12-26T20:34:34.034Z"
   },
   {
    "duration": 4,
    "start_time": "2024-12-26T20:34:34.042Z"
   },
   {
    "duration": 0,
    "start_time": "2024-12-26T20:34:34.047Z"
   },
   {
    "duration": 0,
    "start_time": "2024-12-26T20:34:34.048Z"
   },
   {
    "duration": 0,
    "start_time": "2024-12-26T20:34:34.049Z"
   },
   {
    "duration": 4,
    "start_time": "2024-12-26T20:34:52.296Z"
   },
   {
    "duration": 46,
    "start_time": "2024-12-26T20:34:52.302Z"
   },
   {
    "duration": 16,
    "start_time": "2024-12-26T20:34:52.350Z"
   },
   {
    "duration": 14,
    "start_time": "2024-12-26T20:34:52.368Z"
   },
   {
    "duration": 34,
    "start_time": "2024-12-26T20:34:52.385Z"
   },
   {
    "duration": 24,
    "start_time": "2024-12-26T20:34:52.420Z"
   },
   {
    "duration": 5,
    "start_time": "2024-12-26T20:34:52.446Z"
   },
   {
    "duration": 4,
    "start_time": "2024-12-26T20:34:52.453Z"
   },
   {
    "duration": 1,
    "start_time": "2024-12-26T20:34:52.458Z"
   },
   {
    "duration": 0,
    "start_time": "2024-12-26T20:34:52.460Z"
   },
   {
    "duration": 0,
    "start_time": "2024-12-26T20:34:52.461Z"
   },
   {
    "duration": 1506,
    "start_time": "2024-12-26T20:44:08.447Z"
   },
   {
    "duration": 7,
    "start_time": "2024-12-26T20:44:17.996Z"
   },
   {
    "duration": 44,
    "start_time": "2024-12-26T20:44:19.698Z"
   },
   {
    "duration": 13,
    "start_time": "2024-12-26T20:45:53.644Z"
   },
   {
    "duration": 448,
    "start_time": "2024-12-26T21:08:12.733Z"
   },
   {
    "duration": 114,
    "start_time": "2024-12-26T21:08:50.849Z"
   },
   {
    "duration": 125,
    "start_time": "2024-12-26T21:09:16.865Z"
   },
   {
    "duration": 164,
    "start_time": "2024-12-26T21:09:35.110Z"
   },
   {
    "duration": 18,
    "start_time": "2024-12-26T21:15:19.545Z"
   },
   {
    "duration": 18,
    "start_time": "2024-12-26T21:16:00.146Z"
   },
   {
    "duration": 110,
    "start_time": "2024-12-26T21:17:26.158Z"
   },
   {
    "duration": 18,
    "start_time": "2024-12-26T21:18:02.075Z"
   },
   {
    "duration": 5,
    "start_time": "2024-12-26T21:20:16.800Z"
   },
   {
    "duration": 18,
    "start_time": "2024-12-26T21:20:34.750Z"
   },
   {
    "duration": 18,
    "start_time": "2024-12-26T21:20:41.965Z"
   },
   {
    "duration": 11,
    "start_time": "2024-12-26T21:20:50.101Z"
   },
   {
    "duration": 4,
    "start_time": "2024-12-26T21:20:56.243Z"
   },
   {
    "duration": 48,
    "start_time": "2024-12-26T21:20:56.250Z"
   },
   {
    "duration": 16,
    "start_time": "2024-12-26T21:20:56.300Z"
   },
   {
    "duration": 19,
    "start_time": "2024-12-26T21:20:56.318Z"
   },
   {
    "duration": 37,
    "start_time": "2024-12-26T21:20:56.338Z"
   },
   {
    "duration": 26,
    "start_time": "2024-12-26T21:20:56.377Z"
   },
   {
    "duration": 1351,
    "start_time": "2024-12-26T21:20:56.405Z"
   },
   {
    "duration": 2,
    "start_time": "2024-12-26T21:20:57.759Z"
   },
   {
    "duration": 12,
    "start_time": "2024-12-26T21:20:57.765Z"
   },
   {
    "duration": 9,
    "start_time": "2024-12-26T21:20:57.780Z"
   },
   {
    "duration": 106,
    "start_time": "2024-12-26T21:21:11.125Z"
   },
   {
    "duration": 12,
    "start_time": "2024-12-26T21:21:39.087Z"
   },
   {
    "duration": 103,
    "start_time": "2024-12-26T21:23:19.741Z"
   },
   {
    "duration": 103,
    "start_time": "2024-12-26T21:23:51.967Z"
   },
   {
    "duration": 101,
    "start_time": "2024-12-26T21:24:15.587Z"
   },
   {
    "duration": 11,
    "start_time": "2024-12-26T22:38:56.421Z"
   },
   {
    "duration": 11,
    "start_time": "2024-12-26T22:40:32.663Z"
   },
   {
    "duration": 103,
    "start_time": "2024-12-26T22:42:13.975Z"
   },
   {
    "duration": 101,
    "start_time": "2024-12-26T22:42:50.810Z"
   },
   {
    "duration": 11,
    "start_time": "2024-12-26T22:43:06.493Z"
   },
   {
    "duration": 11,
    "start_time": "2024-12-26T22:43:49.406Z"
   },
   {
    "duration": 108,
    "start_time": "2024-12-26T22:50:56.064Z"
   },
   {
    "duration": 91,
    "start_time": "2024-12-26T22:51:44.524Z"
   },
   {
    "duration": 88,
    "start_time": "2024-12-26T22:51:57.820Z"
   },
   {
    "duration": 12,
    "start_time": "2024-12-26T22:54:21.294Z"
   },
   {
    "duration": 103,
    "start_time": "2024-12-26T23:11:59.620Z"
   },
   {
    "duration": 103,
    "start_time": "2024-12-26T23:13:33.404Z"
   },
   {
    "duration": 103,
    "start_time": "2024-12-26T23:16:50.566Z"
   },
   {
    "duration": 103,
    "start_time": "2024-12-26T23:17:15.086Z"
   },
   {
    "duration": 103,
    "start_time": "2024-12-26T23:19:32.964Z"
   },
   {
    "duration": 103,
    "start_time": "2024-12-26T23:21:50.169Z"
   },
   {
    "duration": 14,
    "start_time": "2024-12-26T23:22:32.457Z"
   },
   {
    "duration": 101,
    "start_time": "2024-12-27T00:17:31.032Z"
   },
   {
    "duration": 104,
    "start_time": "2024-12-27T00:17:52.454Z"
   },
   {
    "duration": 13,
    "start_time": "2024-12-27T00:18:56.395Z"
   },
   {
    "duration": 405,
    "start_time": "2024-12-27T01:01:20.490Z"
   },
   {
    "duration": 50,
    "start_time": "2024-12-27T01:01:20.897Z"
   },
   {
    "duration": 22,
    "start_time": "2024-12-27T01:01:20.951Z"
   },
   {
    "duration": 16,
    "start_time": "2024-12-27T01:01:20.974Z"
   },
   {
    "duration": 67,
    "start_time": "2024-12-27T01:01:20.994Z"
   },
   {
    "duration": 26,
    "start_time": "2024-12-27T01:01:21.062Z"
   },
   {
    "duration": 1491,
    "start_time": "2024-12-27T01:01:21.089Z"
   },
   {
    "duration": 188,
    "start_time": "2024-12-27T01:01:22.583Z"
   },
   {
    "duration": 0,
    "start_time": "2024-12-27T01:01:22.772Z"
   },
   {
    "duration": 0,
    "start_time": "2024-12-27T01:01:22.773Z"
   },
   {
    "duration": 0,
    "start_time": "2024-12-27T01:01:22.775Z"
   },
   {
    "duration": 0,
    "start_time": "2024-12-27T01:01:22.776Z"
   },
   {
    "duration": 0,
    "start_time": "2024-12-27T01:01:22.777Z"
   },
   {
    "duration": 390,
    "start_time": "2024-12-27T02:03:25.072Z"
   },
   {
    "duration": 43,
    "start_time": "2024-12-27T02:03:25.464Z"
   },
   {
    "duration": 14,
    "start_time": "2024-12-27T02:03:25.509Z"
   },
   {
    "duration": 13,
    "start_time": "2024-12-27T02:03:25.524Z"
   },
   {
    "duration": 56,
    "start_time": "2024-12-27T02:03:25.539Z"
   },
   {
    "duration": 23,
    "start_time": "2024-12-27T02:03:25.596Z"
   },
   {
    "duration": 1464,
    "start_time": "2024-12-27T02:03:25.621Z"
   },
   {
    "duration": 183,
    "start_time": "2024-12-27T02:03:27.087Z"
   },
   {
    "duration": 0,
    "start_time": "2024-12-27T02:03:27.272Z"
   },
   {
    "duration": 0,
    "start_time": "2024-12-27T02:03:27.274Z"
   },
   {
    "duration": 0,
    "start_time": "2024-12-27T02:03:27.275Z"
   },
   {
    "duration": 0,
    "start_time": "2024-12-27T02:03:27.277Z"
   },
   {
    "duration": 0,
    "start_time": "2024-12-27T02:03:27.278Z"
   },
   {
    "duration": 0,
    "start_time": "2024-12-27T02:03:27.280Z"
   },
   {
    "duration": 0,
    "start_time": "2024-12-27T02:03:27.281Z"
   },
   {
    "duration": 0,
    "start_time": "2024-12-27T02:03:27.282Z"
   },
   {
    "duration": 12,
    "start_time": "2024-12-27T02:04:38.197Z"
   },
   {
    "duration": 6,
    "start_time": "2024-12-27T02:07:30.328Z"
   },
   {
    "duration": 23,
    "start_time": "2024-12-27T02:07:49.551Z"
   },
   {
    "duration": 4,
    "start_time": "2024-12-27T02:11:34.016Z"
   },
   {
    "duration": 13,
    "start_time": "2024-12-27T02:11:51.906Z"
   },
   {
    "duration": 11,
    "start_time": "2024-12-27T02:14:46.172Z"
   },
   {
    "duration": 12,
    "start_time": "2024-12-27T02:21:02.525Z"
   }
  ],
  "kernelspec": {
   "display_name": "Python 3 (ipykernel)",
   "language": "python",
   "name": "python3"
  },
  "language_info": {
   "codemirror_mode": {
    "name": "ipython",
    "version": 3
   },
   "file_extension": ".py",
   "mimetype": "text/x-python",
   "name": "python",
   "nbconvert_exporter": "python",
   "pygments_lexer": "ipython3",
   "version": "3.9.19"
  },
  "toc": {
   "base_numbering": 1,
   "nav_menu": {},
   "number_sections": true,
   "sideBar": true,
   "skip_h1_title": true,
   "title_cell": "Table of Contents",
   "title_sidebar": "Contents",
   "toc_cell": false,
   "toc_position": {},
   "toc_section_display": true,
   "toc_window_display": false
  }
 },
 "nbformat": 4,
 "nbformat_minor": 2
}
